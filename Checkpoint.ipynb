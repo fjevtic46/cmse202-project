{
 "cells": [
  {
   "cell_type": "markdown",
   "metadata": {},
   "source": [
    "# Checkpoint\n",
    "### Colin Bare, Filip Jevtic, Mitchell Gabalski\n",
    "### Project: Financial 2: Predicting economic inflection points\n",
    "\n",
    "https://www.macrotrends.net/1319/dow-jones-100-year-historical-chart\n",
    "\n",
    "https://www.treasury.gov/resource-center/data-chart-center/interest-rates/pages/textview.aspx?data=yield\n",
    "\n",
    "https://www.macrotrends.net/1320/nasdaq-historical-chart\n",
    "\n",
    "https://www.macrotrends.net/2324/sp-500-historical-chart-data\n",
    "\n",
    "https://home.treasury.gov/data/monitoring-the-economy\n",
    "\n",
    "https://catalog.data.gov/dataset/state-small-business-credit-initiative-ssbci-transactions-dataset/resource/c3940f9d-cb1c-4235-9a86-41ba2b218d41\n",
    "\n",
    "https://datahub.io/core/gdp-us\n",
    "\n",
    "https://www.investopedia.com/ask/answers/040615/what-are-three-major-economic-components-necessary-stagflation-occur.asp\n",
    "\n",
    "1. Statement of the problem. Describe the problem and why it is interesting, important, difficult etc. \n",
    "We are trying to predict economic inflection points. In other words, we are trying to analyze data in order to predict a recession or upturn in economy\n",
    "2. Data you will use. What data are you going to utilize? Can you describe the quality of the data (how much, how recent, how accurate, etc.) \n",
    "Will likely have multiple data forms, including stock averages, yield curve data, interest rates, unemployment, etc.’\n",
    "Search Github for existing data\n",
    "3. What kind of model are you going to develop? Say something about your model (how appropriate it is for your data, its strengths and weaknesses, etc.) \n",
    "Day 18 In class Model \n",
    "(test/train) data\n",
    "Classify recession/upturn\n",
    "4. How will you test your model? What evaluation criteria are you going to use?\n",
    "Use GDP as a check for accuracy\n",
    " 5. Provide your results. Indicate how well your model matched the data (did you do training vs testing, what size, etc.)\n",
    " 6. Conclusions. Things you might do differently, problems you ran into, etc.\n"
   ]
  },
  {
   "cell_type": "code",
   "execution_count": null,
   "metadata": {},
   "outputs": [],
   "source": []
  }
 ],
 "metadata": {
  "kernelspec": {
   "display_name": "Python 3",
   "language": "python",
   "name": "python3"
  },
  "language_info": {
   "codemirror_mode": {
    "name": "ipython",
    "version": 3
   },
   "file_extension": ".py",
   "mimetype": "text/x-python",
   "name": "python",
   "nbconvert_exporter": "python",
   "pygments_lexer": "ipython3",
   "version": "3.7.6"
  }
 },
 "nbformat": 4,
 "nbformat_minor": 4
}
