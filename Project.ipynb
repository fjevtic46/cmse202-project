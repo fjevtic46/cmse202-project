{
 "cells": [
  {
   "cell_type": "markdown",
   "metadata": {},
   "source": [
    "## Plot the Data!!"
   ]
  },
  {
   "cell_type": "code",
   "execution_count": 133,
   "metadata": {},
   "outputs": [
    {
     "data": {
      "text/html": [
       "<div>\n",
       "<style scoped>\n",
       "    .dataframe tbody tr th:only-of-type {\n",
       "        vertical-align: middle;\n",
       "    }\n",
       "\n",
       "    .dataframe tbody tr th {\n",
       "        vertical-align: top;\n",
       "    }\n",
       "\n",
       "    .dataframe thead th {\n",
       "        text-align: right;\n",
       "    }\n",
       "</style>\n",
       "<table border=\"1\" class=\"dataframe\">\n",
       "  <thead>\n",
       "    <tr style=\"text-align: right;\">\n",
       "      <th></th>\n",
       "      <th>Date</th>\n",
       "      <th>Open</th>\n",
       "      <th>Close</th>\n",
       "    </tr>\n",
       "  </thead>\n",
       "  <tbody>\n",
       "    <tr>\n",
       "      <th>0</th>\n",
       "      <td>1985-01-29</td>\n",
       "      <td>1277.719971</td>\n",
       "      <td>1292.619995</td>\n",
       "    </tr>\n",
       "    <tr>\n",
       "      <th>1</th>\n",
       "      <td>1985-01-30</td>\n",
       "      <td>1297.369995</td>\n",
       "      <td>1287.880005</td>\n",
       "    </tr>\n",
       "    <tr>\n",
       "      <th>2</th>\n",
       "      <td>1985-01-31</td>\n",
       "      <td>1283.239990</td>\n",
       "      <td>1286.770020</td>\n",
       "    </tr>\n",
       "    <tr>\n",
       "      <th>3</th>\n",
       "      <td>1985-02-01</td>\n",
       "      <td>1276.939941</td>\n",
       "      <td>1277.719971</td>\n",
       "    </tr>\n",
       "    <tr>\n",
       "      <th>4</th>\n",
       "      <td>1985-02-04</td>\n",
       "      <td>1272.079956</td>\n",
       "      <td>1290.079956</td>\n",
       "    </tr>\n",
       "    <tr>\n",
       "      <th>...</th>\n",
       "      <td>...</td>\n",
       "      <td>...</td>\n",
       "      <td>...</td>\n",
       "    </tr>\n",
       "    <tr>\n",
       "      <th>8867</th>\n",
       "      <td>2020-04-03</td>\n",
       "      <td>21285.929688</td>\n",
       "      <td>21052.529297</td>\n",
       "    </tr>\n",
       "    <tr>\n",
       "      <th>8868</th>\n",
       "      <td>2020-04-06</td>\n",
       "      <td>21693.630859</td>\n",
       "      <td>22679.990234</td>\n",
       "    </tr>\n",
       "    <tr>\n",
       "      <th>8869</th>\n",
       "      <td>2020-04-07</td>\n",
       "      <td>23537.439453</td>\n",
       "      <td>22653.859375</td>\n",
       "    </tr>\n",
       "    <tr>\n",
       "      <th>8870</th>\n",
       "      <td>2020-04-08</td>\n",
       "      <td>22893.470703</td>\n",
       "      <td>23433.570313</td>\n",
       "    </tr>\n",
       "    <tr>\n",
       "      <th>8871</th>\n",
       "      <td>2020-04-09</td>\n",
       "      <td>23690.660156</td>\n",
       "      <td>23719.369141</td>\n",
       "    </tr>\n",
       "  </tbody>\n",
       "</table>\n",
       "<p>8872 rows × 3 columns</p>\n",
       "</div>"
      ],
      "text/plain": [
       "            Date          Open         Close\n",
       "0     1985-01-29   1277.719971   1292.619995\n",
       "1     1985-01-30   1297.369995   1287.880005\n",
       "2     1985-01-31   1283.239990   1286.770020\n",
       "3     1985-02-01   1276.939941   1277.719971\n",
       "4     1985-02-04   1272.079956   1290.079956\n",
       "...          ...           ...           ...\n",
       "8867  2020-04-03  21285.929688  21052.529297\n",
       "8868  2020-04-06  21693.630859  22679.990234\n",
       "8869  2020-04-07  23537.439453  22653.859375\n",
       "8870  2020-04-08  22893.470703  23433.570313\n",
       "8871  2020-04-09  23690.660156  23719.369141\n",
       "\n",
       "[8872 rows x 3 columns]"
      ]
     },
     "execution_count": 133,
     "metadata": {},
     "output_type": "execute_result"
    }
   ],
   "source": [
    "import pandas as pd\n",
    "\n",
    "dow_jones = pd.read_csv('^DJI.csv')\n",
    "dow_jones = dow_jones.drop([\"High\",\"Low\",\"Adj Close\",\"Volume\"],axis = 1)\n",
    "dow_jones\n",
    "\n"
   ]
  },
  {
   "cell_type": "code",
   "execution_count": 164,
   "metadata": {},
   "outputs": [],
   "source": [
    "bad_rows = []\n",
    "for row_ind,row in dow_jones.iterrows():\n",
    "    year = row[0][2:4]\n",
    "    if(float(year) < 18) or (float(year) > 20):\n",
    "        bad_rows.append(row_ind)\n",
    "dow_predict_df = dow_jones.drop(bad_rows,axis = 0)\n",
    "dow_predict_df = np.array(dow_predict_df)\n",
    "dow_time_predict = dow_predict_df[:,0]\n",
    "dow_open_predict = dow_predict_df[:,1].astype(np.float)\n",
    "dow_open_predict = dow_open_predict.reshape(-1,1)"
   ]
  },
  {
   "cell_type": "code",
   "execution_count": 3,
   "metadata": {
    "scrolled": true
   },
   "outputs": [
    {
     "data": {
      "text/html": [
       "<div>\n",
       "<style scoped>\n",
       "    .dataframe tbody tr th:only-of-type {\n",
       "        vertical-align: middle;\n",
       "    }\n",
       "\n",
       "    .dataframe tbody tr th {\n",
       "        vertical-align: top;\n",
       "    }\n",
       "\n",
       "    .dataframe thead th {\n",
       "        text-align: right;\n",
       "    }\n",
       "</style>\n",
       "<table border=\"1\" class=\"dataframe\">\n",
       "  <thead>\n",
       "    <tr style=\"text-align: right;\">\n",
       "      <th></th>\n",
       "      <th>Date</th>\n",
       "      <th>Open</th>\n",
       "      <th>Close</th>\n",
       "    </tr>\n",
       "  </thead>\n",
       "  <tbody>\n",
       "    <tr>\n",
       "      <th>0</th>\n",
       "      <td>1927-12-30</td>\n",
       "      <td>17.660000</td>\n",
       "      <td>17.660000</td>\n",
       "    </tr>\n",
       "    <tr>\n",
       "      <th>1</th>\n",
       "      <td>1928-01-03</td>\n",
       "      <td>17.760000</td>\n",
       "      <td>17.760000</td>\n",
       "    </tr>\n",
       "    <tr>\n",
       "      <th>2</th>\n",
       "      <td>1928-01-04</td>\n",
       "      <td>17.719999</td>\n",
       "      <td>17.719999</td>\n",
       "    </tr>\n",
       "    <tr>\n",
       "      <th>3</th>\n",
       "      <td>1928-01-05</td>\n",
       "      <td>17.549999</td>\n",
       "      <td>17.549999</td>\n",
       "    </tr>\n",
       "    <tr>\n",
       "      <th>4</th>\n",
       "      <td>1928-01-06</td>\n",
       "      <td>17.660000</td>\n",
       "      <td>17.660000</td>\n",
       "    </tr>\n",
       "    <tr>\n",
       "      <th>...</th>\n",
       "      <td>...</td>\n",
       "      <td>...</td>\n",
       "      <td>...</td>\n",
       "    </tr>\n",
       "    <tr>\n",
       "      <th>23173</th>\n",
       "      <td>2020-04-03</td>\n",
       "      <td>2514.919922</td>\n",
       "      <td>2488.649902</td>\n",
       "    </tr>\n",
       "    <tr>\n",
       "      <th>23174</th>\n",
       "      <td>2020-04-06</td>\n",
       "      <td>2578.280029</td>\n",
       "      <td>2663.679932</td>\n",
       "    </tr>\n",
       "    <tr>\n",
       "      <th>23175</th>\n",
       "      <td>2020-04-07</td>\n",
       "      <td>2738.649902</td>\n",
       "      <td>2659.409912</td>\n",
       "    </tr>\n",
       "    <tr>\n",
       "      <th>23176</th>\n",
       "      <td>2020-04-08</td>\n",
       "      <td>2685.000000</td>\n",
       "      <td>2749.979980</td>\n",
       "    </tr>\n",
       "    <tr>\n",
       "      <th>23177</th>\n",
       "      <td>2020-04-09</td>\n",
       "      <td>2776.989990</td>\n",
       "      <td>2789.820068</td>\n",
       "    </tr>\n",
       "  </tbody>\n",
       "</table>\n",
       "<p>23178 rows × 3 columns</p>\n",
       "</div>"
      ],
      "text/plain": [
       "             Date         Open        Close\n",
       "0      1927-12-30    17.660000    17.660000\n",
       "1      1928-01-03    17.760000    17.760000\n",
       "2      1928-01-04    17.719999    17.719999\n",
       "3      1928-01-05    17.549999    17.549999\n",
       "4      1928-01-06    17.660000    17.660000\n",
       "...           ...          ...          ...\n",
       "23173  2020-04-03  2514.919922  2488.649902\n",
       "23174  2020-04-06  2578.280029  2663.679932\n",
       "23175  2020-04-07  2738.649902  2659.409912\n",
       "23176  2020-04-08  2685.000000  2749.979980\n",
       "23177  2020-04-09  2776.989990  2789.820068\n",
       "\n",
       "[23178 rows x 3 columns]"
      ]
     },
     "execution_count": 3,
     "metadata": {},
     "output_type": "execute_result"
    }
   ],
   "source": [
    "snp_500 = pd.read_csv('^GSPC.csv')\n",
    "snp_500 = snp_500.drop([\"High\",\"Low\",\"Adj Close\",\"Volume\"],axis = 1)\n",
    "snp_500\n",
    "\n"
   ]
  },
  {
   "cell_type": "code",
   "execution_count": 165,
   "metadata": {},
   "outputs": [],
   "source": [
    "bad_rows = []\n",
    "for row_ind,row in snp_500.iterrows():\n",
    "    year = row[0][2:4]\n",
    "    if(float(year) < 18) or (float(year) > 20):\n",
    "        bad_rows.append(row_ind)\n",
    "snp_predict_df = snp_500.drop(bad_rows,axis = 0)\n",
    "snp_predict_df = np.array(snp_predict_df)\n",
    "snp_time_predict = snp_predict_df[:,0]\n",
    "snp_open_predict = snp_predict_df[:,1].astype(np.float)\n",
    "snp_open_predict = snp_open_predict.reshape(-1,1)"
   ]
  },
  {
   "cell_type": "code",
   "execution_count": 112,
   "metadata": {},
   "outputs": [
    {
     "data": {
      "text/html": [
       "<div>\n",
       "<style scoped>\n",
       "    .dataframe tbody tr th:only-of-type {\n",
       "        vertical-align: middle;\n",
       "    }\n",
       "\n",
       "    .dataframe tbody tr th {\n",
       "        vertical-align: top;\n",
       "    }\n",
       "\n",
       "    .dataframe thead th {\n",
       "        text-align: right;\n",
       "    }\n",
       "</style>\n",
       "<table border=\"1\" class=\"dataframe\">\n",
       "  <thead>\n",
       "    <tr style=\"text-align: right;\">\n",
       "      <th></th>\n",
       "      <th>date</th>\n",
       "      <th>level-current</th>\n",
       "    </tr>\n",
       "  </thead>\n",
       "  <tbody>\n",
       "    <tr>\n",
       "      <th>0</th>\n",
       "      <td>1947-04-01</td>\n",
       "      <td>246.3</td>\n",
       "    </tr>\n",
       "    <tr>\n",
       "      <th>1</th>\n",
       "      <td>1947-07-01</td>\n",
       "      <td>250.1</td>\n",
       "    </tr>\n",
       "    <tr>\n",
       "      <th>2</th>\n",
       "      <td>1947-10-01</td>\n",
       "      <td>260.3</td>\n",
       "    </tr>\n",
       "    <tr>\n",
       "      <th>3</th>\n",
       "      <td>1948-01-01</td>\n",
       "      <td>266.2</td>\n",
       "    </tr>\n",
       "    <tr>\n",
       "      <th>4</th>\n",
       "      <td>1948-04-01</td>\n",
       "      <td>272.9</td>\n",
       "    </tr>\n",
       "    <tr>\n",
       "      <th>...</th>\n",
       "      <td>...</td>\n",
       "      <td>...</td>\n",
       "    </tr>\n",
       "    <tr>\n",
       "      <th>276</th>\n",
       "      <td>2016-04-01</td>\n",
       "      <td>18538.0</td>\n",
       "    </tr>\n",
       "    <tr>\n",
       "      <th>277</th>\n",
       "      <td>2016-07-01</td>\n",
       "      <td>18729.1</td>\n",
       "    </tr>\n",
       "    <tr>\n",
       "      <th>278</th>\n",
       "      <td>2016-10-01</td>\n",
       "      <td>18905.5</td>\n",
       "    </tr>\n",
       "    <tr>\n",
       "      <th>279</th>\n",
       "      <td>2017-01-01</td>\n",
       "      <td>19057.7</td>\n",
       "    </tr>\n",
       "    <tr>\n",
       "      <th>280</th>\n",
       "      <td>2017-04-01</td>\n",
       "      <td>19250.0</td>\n",
       "    </tr>\n",
       "  </tbody>\n",
       "</table>\n",
       "<p>281 rows × 2 columns</p>\n",
       "</div>"
      ],
      "text/plain": [
       "           date  level-current\n",
       "0    1947-04-01          246.3\n",
       "1    1947-07-01          250.1\n",
       "2    1947-10-01          260.3\n",
       "3    1948-01-01          266.2\n",
       "4    1948-04-01          272.9\n",
       "..          ...            ...\n",
       "276  2016-04-01        18538.0\n",
       "277  2016-07-01        18729.1\n",
       "278  2016-10-01        18905.5\n",
       "279  2017-01-01        19057.7\n",
       "280  2017-04-01        19250.0\n",
       "\n",
       "[281 rows x 2 columns]"
      ]
     },
     "execution_count": 112,
     "metadata": {},
     "output_type": "execute_result"
    }
   ],
   "source": [
    "quarter_gdp = pd.read_csv('quarter_csv.csv')\n",
    "quarter_gdp = quarter_gdp.drop([\"level-chained\",\"change-current\",\"change-chained\"],axis = 1)\n",
    "quarter_gdp"
   ]
  },
  {
   "cell_type": "code",
   "execution_count": 5,
   "metadata": {},
   "outputs": [
    {
     "data": {
      "text/html": [
       "<div>\n",
       "<style scoped>\n",
       "    .dataframe tbody tr th:only-of-type {\n",
       "        vertical-align: middle;\n",
       "    }\n",
       "\n",
       "    .dataframe tbody tr th {\n",
       "        vertical-align: top;\n",
       "    }\n",
       "\n",
       "    .dataframe thead th {\n",
       "        text-align: right;\n",
       "    }\n",
       "</style>\n",
       "<table border=\"1\" class=\"dataframe\">\n",
       "  <thead>\n",
       "    <tr style=\"text-align: right;\">\n",
       "      <th></th>\n",
       "      <th>date</th>\n",
       "      <th>level-current</th>\n",
       "    </tr>\n",
       "  </thead>\n",
       "  <tbody>\n",
       "    <tr>\n",
       "      <th>0</th>\n",
       "      <td>1930</td>\n",
       "      <td>92.2</td>\n",
       "    </tr>\n",
       "    <tr>\n",
       "      <th>1</th>\n",
       "      <td>1931</td>\n",
       "      <td>77.4</td>\n",
       "    </tr>\n",
       "    <tr>\n",
       "      <th>2</th>\n",
       "      <td>1932</td>\n",
       "      <td>59.5</td>\n",
       "    </tr>\n",
       "    <tr>\n",
       "      <th>3</th>\n",
       "      <td>1933</td>\n",
       "      <td>57.2</td>\n",
       "    </tr>\n",
       "    <tr>\n",
       "      <th>4</th>\n",
       "      <td>1934</td>\n",
       "      <td>66.8</td>\n",
       "    </tr>\n",
       "    <tr>\n",
       "      <th>...</th>\n",
       "      <td>...</td>\n",
       "      <td>...</td>\n",
       "    </tr>\n",
       "    <tr>\n",
       "      <th>81</th>\n",
       "      <td>2011</td>\n",
       "      <td>15517.9</td>\n",
       "    </tr>\n",
       "    <tr>\n",
       "      <th>82</th>\n",
       "      <td>2012</td>\n",
       "      <td>16155.3</td>\n",
       "    </tr>\n",
       "    <tr>\n",
       "      <th>83</th>\n",
       "      <td>2013</td>\n",
       "      <td>16691.5</td>\n",
       "    </tr>\n",
       "    <tr>\n",
       "      <th>84</th>\n",
       "      <td>2014</td>\n",
       "      <td>17427.6</td>\n",
       "    </tr>\n",
       "    <tr>\n",
       "      <th>85</th>\n",
       "      <td>2015</td>\n",
       "      <td>18120.7</td>\n",
       "    </tr>\n",
       "  </tbody>\n",
       "</table>\n",
       "<p>86 rows × 2 columns</p>\n",
       "</div>"
      ],
      "text/plain": [
       "    date  level-current\n",
       "0   1930           92.2\n",
       "1   1931           77.4\n",
       "2   1932           59.5\n",
       "3   1933           57.2\n",
       "4   1934           66.8\n",
       "..   ...            ...\n",
       "81  2011        15517.9\n",
       "82  2012        16155.3\n",
       "83  2013        16691.5\n",
       "84  2014        17427.6\n",
       "85  2015        18120.7\n",
       "\n",
       "[86 rows x 2 columns]"
      ]
     },
     "execution_count": 5,
     "metadata": {},
     "output_type": "execute_result"
    }
   ],
   "source": [
    "year_gdp = pd.read_csv('year_csv.csv')\n",
    "year_gdp = year_gdp.drop([\"level-chained\",\"change-current\",\"change-chained\"],axis = 1)\n",
    "year_gdp"
   ]
  },
  {
   "cell_type": "code",
   "execution_count": 115,
   "metadata": {},
   "outputs": [
    {
     "data": {
      "text/html": [
       "<div>\n",
       "<style scoped>\n",
       "    .dataframe tbody tr th:only-of-type {\n",
       "        vertical-align: middle;\n",
       "    }\n",
       "\n",
       "    .dataframe tbody tr th {\n",
       "        vertical-align: top;\n",
       "    }\n",
       "\n",
       "    .dataframe thead th {\n",
       "        text-align: right;\n",
       "    }\n",
       "</style>\n",
       "<table border=\"1\" class=\"dataframe\">\n",
       "  <thead>\n",
       "    <tr style=\"text-align: right;\">\n",
       "      <th></th>\n",
       "      <th>Date</th>\n",
       "      <th>1 Mo</th>\n",
       "      <th>20 Yr</th>\n",
       "    </tr>\n",
       "  </thead>\n",
       "  <tbody>\n",
       "    <tr>\n",
       "      <th>396</th>\n",
       "      <td>07/31/01</td>\n",
       "      <td>3.67</td>\n",
       "      <td>5.61</td>\n",
       "    </tr>\n",
       "    <tr>\n",
       "      <th>397</th>\n",
       "      <td>08/01/01</td>\n",
       "      <td>3.65</td>\n",
       "      <td>5.63</td>\n",
       "    </tr>\n",
       "    <tr>\n",
       "      <th>398</th>\n",
       "      <td>08/02/01</td>\n",
       "      <td>3.65</td>\n",
       "      <td>5.68</td>\n",
       "    </tr>\n",
       "    <tr>\n",
       "      <th>399</th>\n",
       "      <td>08/03/01</td>\n",
       "      <td>3.63</td>\n",
       "      <td>5.70</td>\n",
       "    </tr>\n",
       "    <tr>\n",
       "      <th>400</th>\n",
       "      <td>08/06/01</td>\n",
       "      <td>3.62</td>\n",
       "      <td>5.70</td>\n",
       "    </tr>\n",
       "    <tr>\n",
       "      <th>...</th>\n",
       "      <td>...</td>\n",
       "      <td>...</td>\n",
       "      <td>...</td>\n",
       "    </tr>\n",
       "    <tr>\n",
       "      <th>5068</th>\n",
       "      <td>04/06/20</td>\n",
       "      <td>0.09</td>\n",
       "      <td>1.08</td>\n",
       "    </tr>\n",
       "    <tr>\n",
       "      <th>5069</th>\n",
       "      <td>04/07/20</td>\n",
       "      <td>0.10</td>\n",
       "      <td>1.13</td>\n",
       "    </tr>\n",
       "    <tr>\n",
       "      <th>5070</th>\n",
       "      <td>04/08/20</td>\n",
       "      <td>0.14</td>\n",
       "      <td>1.18</td>\n",
       "    </tr>\n",
       "    <tr>\n",
       "      <th>5071</th>\n",
       "      <td>04/09/20</td>\n",
       "      <td>0.20</td>\n",
       "      <td>1.15</td>\n",
       "    </tr>\n",
       "    <tr>\n",
       "      <th>5072</th>\n",
       "      <td>04/13/20</td>\n",
       "      <td>0.17</td>\n",
       "      <td>1.19</td>\n",
       "    </tr>\n",
       "  </tbody>\n",
       "</table>\n",
       "<p>4676 rows × 3 columns</p>\n",
       "</div>"
      ],
      "text/plain": [
       "          Date  1 Mo  20 Yr\n",
       "396   07/31/01  3.67   5.61\n",
       "397   08/01/01  3.65   5.63\n",
       "398   08/02/01  3.65   5.68\n",
       "399   08/03/01  3.63   5.70\n",
       "400   08/06/01  3.62   5.70\n",
       "...        ...   ...    ...\n",
       "5068  04/06/20  0.09   1.08\n",
       "5069  04/07/20  0.10   1.13\n",
       "5070  04/08/20  0.14   1.18\n",
       "5071  04/09/20  0.20   1.15\n",
       "5072  04/13/20  0.17   1.19\n",
       "\n",
       "[4676 rows x 3 columns]"
      ]
     },
     "execution_count": 115,
     "metadata": {},
     "output_type": "execute_result"
    }
   ],
   "source": [
    "import numpy as np\n",
    "yield_curve = pd.read_csv('yeild_curve_data - Sheet1 (1).csv')\n",
    "\n",
    "yield_curve = yield_curve.drop([\"2 Mo\",\"3 Mo\",\"6 Mo\",\"1 Yr\",\"2 Yr\",\"3 Yr\",\"5 Yr\",\"7 Yr\",\"10 Yr\",\"30 Yr\"],axis = 1)\n",
    "yield_curve = yield_curve.dropna()\n"
   ]
  },
  {
   "cell_type": "code",
   "execution_count": 147,
   "metadata": {},
   "outputs": [],
   "source": [
    "bad_rows = []\n",
    "for row_ind,row in yield_curve.iterrows():\n",
    "    year = row[0][6:]\n",
    "    year = \"20\" + year\n",
    "    if(float(year) < 2018) or (float(year) > 2020):\n",
    "        bad_rows.append(row_ind)\n",
    "yield_predict_df = yield_curve.drop(bad_rows,axis = 0)\n",
    "yield_predict_df = np.array(yield_predict_df)\n",
    "yield_time_predict =yield_predict_df[:,0]\n",
    "yield_onemonth_predict = yield_predict_df[:,1]\n",
    "yield_twentyyear_predict = yield_predict_df[:,2]"
   ]
  },
  {
   "cell_type": "code",
   "execution_count": 7,
   "metadata": {},
   "outputs": [
    {
     "data": {
      "text/plain": [
       "(2729, 4)"
      ]
     },
     "execution_count": 7,
     "metadata": {},
     "output_type": "execute_result"
    }
   ],
   "source": [
    "\n",
    "dow_list = []\n",
    "\n",
    "for row_ind,row in dow_jones.iterrows():\n",
    "    string_month = row[0][5:7]\n",
    "    string_year = row[0][2:4]\n",
    "    for row_ind2,row2 in quarter_gdp.iterrows():\n",
    "        string2_month = row2[0][5:7]\n",
    "        string2_year = row2[0][2:4]\n",
    "        if(string2_month == string_month) and (string_year == string2_year):\n",
    "            row_tup = (row[0],row[1],row[2],row2[1])\n",
    "            dow_list.append(row_tup)\n",
    "dow_arr = np.array(dow_list)\n",
    "\n"
   ]
  },
  {
   "cell_type": "code",
   "execution_count": 197,
   "metadata": {
    "scrolled": true
   },
   "outputs": [],
   "source": [
    "from sklearn.model_selection import train_test_split\n",
    "time = dow_arr[:,0]\n",
    "open_prices = dow_arr[:,1]\n",
    "dow_gdp = dow_arr[:,3]\n",
    "open_prices = open_prices.astype(np.float)\n",
    "open_prices = open_prices.reshape(-1,1)\n",
    "\n"
   ]
  },
  {
   "cell_type": "code",
   "execution_count": 198,
   "metadata": {},
   "outputs": [],
   "source": [
    "gdp_binary = []\n",
    "\n",
    "for i in range(len(dow_gdp)):\n",
    "\n",
    "    if(i < len(dow_gdp)-1):\n",
    "   \n",
    "        if(dow_gdp[i+1] < dow_gdp[i]):\n",
    "            gdp_binary.append(0)\n",
    "        elif(dow_gdp[i+1] == dow_gdp[i]):\n",
    "            gdp_binary.append(1)\n",
    "        elif(dow_gdp[i+1] > dow_gdp[i]):\n",
    "            gdp_binary.append(2)\n",
    "    else:\n",
    "        gdp_binary.append(1)\n",
    "gdp_classifier = gdp_binary      "
   ]
  },
  {
   "cell_type": "code",
   "execution_count": 199,
   "metadata": {},
   "outputs": [
    {
     "data": {
      "text/plain": [
       "array([1, 1, 1, 1, 1, 1, 1, 1, 1, 1, 1, 1, 1, 1, 1, 1, 1, 1, 1, 1, 1, 1,\n",
       "       1, 1, 1, 1, 1, 1, 1, 1, 1, 1, 1, 1, 1, 1, 1, 1, 1, 1, 1, 1, 1, 1,\n",
       "       1, 1, 1, 1, 0, 1, 1, 1, 1, 1, 1, 1, 1, 1, 1, 1, 1, 1, 1, 1, 1, 1,\n",
       "       1, 1, 1, 1, 1, 1, 1, 1, 1, 1, 1, 1, 1, 1, 1, 1, 1, 1, 1, 1, 1, 1,\n",
       "       1, 1, 1, 1, 1, 1, 1, 1, 1, 1, 1, 1, 1, 1, 1, 1, 1, 1, 1, 1, 1, 1,\n",
       "       1, 1, 1, 1, 1, 1, 1, 1, 1, 1, 1, 1, 1, 1, 1, 1, 1, 1, 1, 1, 1, 1,\n",
       "       1, 1, 1, 1, 1, 1, 1, 1, 1, 1, 1, 1, 1, 1, 1, 1, 1, 1, 1, 1, 1, 1,\n",
       "       1, 1, 1, 1, 1, 1, 1, 1, 1, 1, 1, 1, 1, 1, 1, 1, 1, 1, 1, 1, 1, 1,\n",
       "       1, 1, 1, 1, 1, 1, 1, 1, 1, 1, 1, 1, 1, 1, 1, 1, 1, 1, 1, 1, 1, 1,\n",
       "       1, 1, 1, 1, 1, 1, 1, 1, 1, 1, 1, 1, 1, 1, 1, 1, 1, 1, 1, 1, 1, 1,\n",
       "       1, 1, 1, 1, 1, 1, 1, 1, 1, 1, 1, 1, 1, 1, 1, 1, 1, 1, 1, 1, 1, 1,\n",
       "       1, 1, 1, 1, 1, 1, 1, 1, 1, 1, 1, 1, 1, 1, 1, 1, 1, 1, 1, 1, 1, 1,\n",
       "       1, 1, 1, 1, 1, 1, 1, 1, 1, 1, 1, 1, 1, 1, 1, 1, 1, 1, 1, 1, 1, 1,\n",
       "       0, 1, 1, 1, 1, 1, 1, 1, 1, 1, 1, 1, 1, 1, 1, 1, 1, 1, 1, 1, 1, 1,\n",
       "       1, 1, 1, 1, 1, 1, 1, 1, 1, 1, 1, 1, 1, 1, 1, 1, 1, 1, 1, 1, 1, 1,\n",
       "       1, 1, 1, 1, 1, 1, 1, 1, 1, 1, 1, 1, 1, 1, 1, 1, 1, 1, 1, 1, 1, 1,\n",
       "       1, 1, 1, 1, 1, 1, 1, 1, 1, 1, 1, 1, 1, 1, 1, 1, 1, 1, 1, 1, 1, 1,\n",
       "       1, 1, 1, 1, 1, 1, 1, 1, 1, 1, 1, 1, 1, 1, 1, 1, 1, 1, 1, 1, 1, 1,\n",
       "       1, 1, 1, 1, 1, 1, 1, 1, 1, 1, 1, 1, 1, 1, 1, 1, 1, 1, 1, 1, 1, 1,\n",
       "       1, 1, 1, 1, 1, 1, 1, 1, 1, 1, 1, 1, 1, 1, 1, 1, 1, 1, 1, 1, 1, 1,\n",
       "       1, 1, 1, 1, 1, 1, 1, 1, 1, 1, 1, 1, 1, 1, 1, 1, 1, 1, 1, 1, 1, 1,\n",
       "       1, 1, 1, 1, 1, 1, 1, 1, 1, 1, 1, 1, 1, 1, 1, 1, 1, 1, 1, 1, 1, 1,\n",
       "       1, 1, 1, 1, 1, 1, 1, 1, 1, 1, 1, 1, 1, 1, 1, 1, 1, 1, 1, 1, 1, 1,\n",
       "       1, 1, 1, 1, 1, 1, 1, 1, 1, 1, 1, 1, 1, 1, 1, 1, 1, 1, 1, 1, 1, 1,\n",
       "       1, 1, 1, 1, 1, 1, 1, 1, 1, 1, 1, 1, 1, 1, 1, 1, 1, 1, 1, 1, 1, 1,\n",
       "       1, 1, 1, 1, 1, 1, 1, 1, 1, 1, 1, 1, 1, 1, 1, 1, 1, 1, 1, 1, 1, 1,\n",
       "       1, 1, 1, 1, 1, 1, 1, 1, 1, 1, 1, 1, 1, 1, 1, 1, 1, 1, 1, 1, 1, 1,\n",
       "       1, 1, 1, 1, 1, 1, 1, 1, 1, 1, 1, 1, 1, 1, 1, 1, 1, 1, 1, 1, 1, 1,\n",
       "       1, 1, 1, 1, 1, 1, 1, 1, 1, 1, 1, 1, 1, 1, 1, 1, 1, 1, 1, 1, 1, 1,\n",
       "       1, 1, 1, 1, 1, 1, 1, 1, 1, 1, 1, 1, 1, 1, 1, 1, 1, 1, 1, 1, 1, 1,\n",
       "       1, 1, 1, 1, 1, 1, 1, 1, 1, 1, 1, 1, 1, 1, 1, 1, 1, 1, 1, 1, 1, 1,\n",
       "       1, 0, 1, 1, 1, 1, 1, 1, 1, 1, 1, 1, 1, 1, 1, 1, 1, 1, 1, 1, 1, 1,\n",
       "       1, 1, 1, 1, 1, 1, 1, 1, 1, 1, 1, 1, 1, 1, 1, 1, 1, 1, 1, 1, 1, 1,\n",
       "       1, 1, 1, 1, 1, 1, 1, 1, 1, 1, 1, 1, 1, 1, 1, 1, 1, 1, 1, 1, 1, 1,\n",
       "       1, 1, 1, 1, 1, 1, 1, 1, 1, 1, 1, 1, 1, 1, 1, 1, 1, 1, 1, 1, 1, 1,\n",
       "       1, 1, 1, 1, 1, 1, 1, 1, 1, 1, 1, 1, 1, 1, 1, 1, 1, 1, 1, 1, 1, 1,\n",
       "       1, 1, 1, 1, 1, 1, 1, 1, 1, 1, 1, 1, 1, 1, 1, 1, 1, 1, 1, 1, 1, 1,\n",
       "       1, 1, 1, 1, 1])"
      ]
     },
     "execution_count": 199,
     "metadata": {},
     "output_type": "execute_result"
    }
   ],
   "source": [
    "from sklearn.neighbors import KNeighborsClassifier\n",
    "\n",
    "dow_train,dow_test,gdp_train,gdp_test = train_test_split(open_prices,gdp_classifier,test_size = 0.3)\n",
    "model = KNeighborsClassifier(n_neighbors=2)\n",
    "model.fit(dow_train,gdp_train)\n",
    "prediction = model.predict(dow_test)\n",
    "prediction\n"
   ]
  },
  {
   "cell_type": "code",
   "execution_count": 200,
   "metadata": {},
   "outputs": [
    {
     "name": "stdout",
     "output_type": "stream",
     "text": [
      "found0\n",
      "found0\n",
      "found0\n"
     ]
    }
   ],
   "source": [
    "for i in prediction:\n",
    "    if i == 0:\n",
    "        print(\"found0\")\n",
    "    if i == 2:\n",
    "        print(\"found2\")"
   ]
  },
  {
   "cell_type": "code",
   "execution_count": 201,
   "metadata": {},
   "outputs": [
    {
     "name": "stdout",
     "output_type": "stream",
     "text": [
      "0.9511599511599511\n"
     ]
    }
   ],
   "source": [
    "from sklearn.metrics import accuracy_score\n",
    "accuracy = accuracy_score(gdp_test,prediction)\n",
    "print(accuracy)"
   ]
  },
  {
   "cell_type": "code",
   "execution_count": 202,
   "metadata": {},
   "outputs": [
    {
     "data": {
      "text/plain": [
       "(572, 1)"
      ]
     },
     "execution_count": 202,
     "metadata": {},
     "output_type": "execute_result"
    }
   ],
   "source": [
    "dow_open_predict.shape\n"
   ]
  },
  {
   "cell_type": "code",
   "execution_count": 203,
   "metadata": {},
   "outputs": [],
   "source": [
    "two_dow = model.predict(dow_open_predict)\n",
    "for i in two_dow:\n",
    "    if i == 0:\n",
    "        print(\"found0\")\n",
    "    if i == 2:\n",
    "        print(\"found2\")"
   ]
  },
  {
   "cell_type": "code",
   "execution_count": null,
   "metadata": {},
   "outputs": [],
   "source": []
  },
  {
   "cell_type": "code",
   "execution_count": null,
   "metadata": {},
   "outputs": [],
   "source": []
  },
  {
   "cell_type": "code",
   "execution_count": null,
   "metadata": {},
   "outputs": [],
   "source": []
  },
  {
   "cell_type": "code",
   "execution_count": 72,
   "metadata": {},
   "outputs": [
    {
     "ename": "KeyboardInterrupt",
     "evalue": "",
     "output_type": "error",
     "traceback": [
      "\u001b[1;31m---------------------------------------------------------------------------\u001b[0m",
      "\u001b[1;31mKeyboardInterrupt\u001b[0m                         Traceback (most recent call last)",
      "\u001b[1;32mC:\\ProgramData\\Anaconda3\\lib\\abc.py\u001b[0m in \u001b[0;36m__instancecheck__\u001b[1;34m(cls, instance)\u001b[0m\n\u001b[0;32m    137\u001b[0m         \u001b[1;32mdef\u001b[0m \u001b[0m__instancecheck__\u001b[0m\u001b[1;33m(\u001b[0m\u001b[0mcls\u001b[0m\u001b[1;33m,\u001b[0m \u001b[0minstance\u001b[0m\u001b[1;33m)\u001b[0m\u001b[1;33m:\u001b[0m\u001b[1;33m\u001b[0m\u001b[1;33m\u001b[0m\u001b[0m\n\u001b[0;32m    138\u001b[0m             \u001b[1;34m\"\"\"Override for isinstance(instance, cls).\"\"\"\u001b[0m\u001b[1;33m\u001b[0m\u001b[1;33m\u001b[0m\u001b[0m\n\u001b[1;32m--> 139\u001b[1;33m             \u001b[1;32mreturn\u001b[0m \u001b[0m_abc_instancecheck\u001b[0m\u001b[1;33m(\u001b[0m\u001b[0mcls\u001b[0m\u001b[1;33m,\u001b[0m \u001b[0minstance\u001b[0m\u001b[1;33m)\u001b[0m\u001b[1;33m\u001b[0m\u001b[1;33m\u001b[0m\u001b[0m\n\u001b[0m\u001b[0;32m    140\u001b[0m \u001b[1;33m\u001b[0m\u001b[0m\n\u001b[0;32m    141\u001b[0m         \u001b[1;32mdef\u001b[0m \u001b[0m__subclasscheck__\u001b[0m\u001b[1;33m(\u001b[0m\u001b[0mcls\u001b[0m\u001b[1;33m,\u001b[0m \u001b[0msubclass\u001b[0m\u001b[1;33m)\u001b[0m\u001b[1;33m:\u001b[0m\u001b[1;33m\u001b[0m\u001b[1;33m\u001b[0m\u001b[0m\n",
      "\u001b[1;31mKeyboardInterrupt\u001b[0m: "
     ]
    },
    {
     "name": "stderr",
     "output_type": "stream",
     "text": [
      "Exception ignored in: 'pandas._libs.lib.c_is_list_like'\n",
      "Traceback (most recent call last):\n",
      "  File \"C:\\ProgramData\\Anaconda3\\lib\\abc.py\", line 139, in __instancecheck__\n",
      "    return _abc_instancecheck(cls, instance)\n",
      "KeyboardInterrupt\n"
     ]
    },
    {
     "data": {
      "text/plain": [
       "(5943, 4)"
      ]
     },
     "execution_count": 72,
     "metadata": {},
     "output_type": "execute_result"
    }
   ],
   "source": [
    "snp_list = []\n",
    "\n",
    "for row_ind,row in snp_500.iterrows():\n",
    "    string_month = row[0][5:7]\n",
    "    string_year = row[0][2:4]\n",
    "    for row_ind2,row2 in quarter_gdp.iterrows():\n",
    "        string2_month = row2[0][5:7]\n",
    "        string2_year = row2[0][2:4]\n",
    "        if(string2_month == string_month) and (string_year == string2_year):\n",
    "            row_tup = (row[0],row[1],row[2],row2[1])\n",
    "            snp_list.append(row_tup)\n",
    "snp_arr = np.array(snp_list)\n",
    "snp_arr.shape"
   ]
  },
  {
   "cell_type": "code",
   "execution_count": 83,
   "metadata": {},
   "outputs": [],
   "source": [
    "time = snp_arr[:,0]\n",
    "open_prices = snp_arr[:,1]\n",
    "snp_gdp = snp_arr[:,3]\n",
    "open_prices = open_prices.astype(np.float)\n",
    "open_prices = open_prices.reshape(-1,1)"
   ]
  },
  {
   "cell_type": "code",
   "execution_count": 87,
   "metadata": {},
   "outputs": [],
   "source": [
    "gdp_binary = []\n",
    "\n",
    "for i in range(len(snp_gdp)):\n",
    "\n",
    "    if(i < len(snp_gdp)-1):\n",
    "   \n",
    "        if(snp_gdp[i+1] < snp_gdp[i]):\n",
    "            gdp_binary.append(0)\n",
    "        elif(snp_gdp[i+1] == snp_gdp[i]):\n",
    "            gdp_binary.append(1)\n",
    "        elif(snp_gdp[i+1] > snp_gdp[i]):\n",
    "            gdp_binary.append(2)\n",
    "    else:\n",
    "        gdp_binary.append(1)\n",
    "gdp_classifier = gdp_binary  "
   ]
  },
  {
   "cell_type": "code",
   "execution_count": 88,
   "metadata": {},
   "outputs": [
    {
     "data": {
      "text/plain": [
       "array([1, 1, 1, ..., 1, 1, 1])"
      ]
     },
     "execution_count": 88,
     "metadata": {},
     "output_type": "execute_result"
    }
   ],
   "source": [
    "from sklearn.neighbors import KNeighborsClassifier\n",
    "\n",
    "snp_train,snp_test,gdp_train,gdp_test = train_test_split(open_prices,gdp_classifier,test_size = 0.3)\n",
    "model = KNeighborsClassifier(n_neighbors=2)\n",
    "model.fit(snp_train,gdp_train)\n",
    "prediction = model.predict(snp_test)\n",
    "prediction"
   ]
  },
  {
   "cell_type": "code",
   "execution_count": 89,
   "metadata": {},
   "outputs": [
    {
     "name": "stdout",
     "output_type": "stream",
     "text": [
      "found0\n",
      "found0\n",
      "found0\n",
      "found0\n",
      "found0\n",
      "found0\n",
      "found0\n",
      "found0\n",
      "found2\n",
      "found0\n",
      "found0\n",
      "found0\n",
      "found0\n",
      "found0\n",
      "found2\n",
      "found0\n",
      "found0\n",
      "found0\n",
      "found0\n",
      "found0\n"
     ]
    }
   ],
   "source": [
    "for i in prediction:\n",
    "    if i == 0:\n",
    "        print(\"found0\")\n",
    "    if i == 2:\n",
    "        print(\"found2\")"
   ]
  },
  {
   "cell_type": "code",
   "execution_count": 90,
   "metadata": {},
   "outputs": [
    {
     "name": "stdout",
     "output_type": "stream",
     "text": [
      "0.944475602916433\n"
     ]
    }
   ],
   "source": [
    "from sklearn.metrics import accuracy_score\n",
    "accuracy = accuracy_score(gdp_test,prediction)\n",
    "print(accuracy)"
   ]
  },
  {
   "cell_type": "code",
   "execution_count": null,
   "metadata": {},
   "outputs": [],
   "source": []
  },
  {
   "cell_type": "code",
   "execution_count": null,
   "metadata": {},
   "outputs": [],
   "source": []
  },
  {
   "cell_type": "code",
   "execution_count": null,
   "metadata": {},
   "outputs": [],
   "source": []
  },
  {
   "cell_type": "code",
   "execution_count": 116,
   "metadata": {},
   "outputs": [
    {
     "data": {
      "text/plain": [
       "(1317, 4)"
      ]
     },
     "execution_count": 116,
     "metadata": {},
     "output_type": "execute_result"
    }
   ],
   "source": [
    "yield_list = []\n",
    "\n",
    "for row_ind, row in yield_curve.iterrows():\n",
    "    string_month = row[0][0:2]\n",
    "    string_year = row[0][6:8]\n",
    "    for row_ind2,row2 in quarter_gdp.iterrows():\n",
    "        string2_month = row2[0][5:7]\n",
    "        string2_year = row2[0][2:4]\n",
    "        if(string2_month == string_month) and (string_year == string2_year):\n",
    "            row_list = []\n",
    "            for item in row:\n",
    "                row_list.append(item)\n",
    "            row_list.append(row2[1])\n",
    "            yield_list.append(row_list)\n",
    "yield_arr = np.array(yield_list)\n",
    "yield_arr.shape"
   ]
  },
  {
   "cell_type": "code",
   "execution_count": 117,
   "metadata": {},
   "outputs": [],
   "source": [
    "time = yield_arr[:,0]\n",
    "one_mo = yield_arr[:,1].astype(np.float)\n",
    "twenty_year = yield_arr[:,2].astype(np.float)\n",
    "yield_gdp = yield_arr[:,3]\n",
    "all_yield = np.stack((one_mo,twenty_year),axis = -1)"
   ]
  },
  {
   "cell_type": "code",
   "execution_count": 118,
   "metadata": {},
   "outputs": [
    {
     "data": {
      "text/plain": [
       "array([[3.67, 5.61],\n",
       "       [2.26, 5.39],\n",
       "       [2.27, 5.36],\n",
       "       ...,\n",
       "       [0.74, 2.69],\n",
       "       [0.7 , 2.68],\n",
       "       [0.68, 2.67]])"
      ]
     },
     "execution_count": 118,
     "metadata": {},
     "output_type": "execute_result"
    }
   ],
   "source": [
    "all_yield"
   ]
  },
  {
   "cell_type": "code",
   "execution_count": 119,
   "metadata": {},
   "outputs": [],
   "source": [
    "gdp_binary = []\n",
    "\n",
    "for i in range(len(yield_gdp)):\n",
    "\n",
    "    if(i < len(yield_gdp)-1):\n",
    "   \n",
    "        if(yield_gdp[i+1] < yield_gdp[i]):\n",
    "            gdp_binary.append(0)\n",
    "        elif(yield_gdp[i+1] == yield_gdp[i]):\n",
    "            gdp_binary.append(1)\n",
    "        elif(yield_gdp[i+1] > yield_gdp[i]):\n",
    "            gdp_binary.append(2)\n",
    "    else:\n",
    "        gdp_binary.append(1)\n",
    "gdp_classifier = gdp_binary  "
   ]
  },
  {
   "cell_type": "code",
   "execution_count": 122,
   "metadata": {},
   "outputs": [
    {
     "data": {
      "text/plain": [
       "array([1, 1, 1, 1, 1, 1, 1, 1, 1, 1, 1, 1, 1, 1, 1, 1, 1, 1, 1, 1, 1, 1,\n",
       "       1, 1, 1, 1, 1, 1, 1, 1, 1, 1, 1, 1, 1, 1, 1, 1, 1, 1, 1, 1, 1, 1,\n",
       "       1, 1, 1, 1, 1, 1, 1, 1, 1, 1, 1, 1, 1, 1, 1, 1, 1, 1, 1, 1, 1, 1,\n",
       "       1, 1, 1, 1, 1, 1, 1, 1, 1, 1, 1, 1, 1, 1, 1, 1, 1, 1, 1, 1, 1, 1,\n",
       "       1, 1, 1, 1, 1, 1, 1, 1, 1, 1, 1, 1, 1, 1, 1, 1, 1, 1, 1, 1, 1, 1,\n",
       "       1, 1, 1, 1, 1, 1, 1, 1, 1, 1, 1, 1, 0, 1, 1, 1, 1, 1, 1, 1, 1, 1,\n",
       "       1, 1, 1, 1, 1, 1, 1, 1, 1, 1, 1, 1, 1, 1, 1, 1, 1, 1, 1, 1, 1, 1,\n",
       "       1, 1, 1, 1, 1, 1, 1, 1, 1, 1, 1, 1, 1, 1, 1, 1, 1, 1, 1, 1, 1, 1,\n",
       "       1, 1, 1, 1, 1, 1, 1, 1, 1, 1, 1, 1, 1, 1, 1, 1, 1, 1, 1, 1, 1, 1,\n",
       "       1, 1, 1, 1, 1, 1, 1, 1, 1, 1, 1, 1, 1, 1, 1, 1, 1, 1, 1, 1, 1, 1,\n",
       "       1, 1, 1, 1, 1, 1, 1, 1, 1, 2, 1, 1, 1, 1, 1, 1, 1, 1, 1, 1, 1, 1,\n",
       "       1, 1, 1, 1, 1, 1, 1, 1, 1, 1, 1, 1, 1, 1, 1, 1, 1, 1, 1, 1, 1, 1,\n",
       "       1, 1, 1, 1, 1, 1, 1, 1, 1, 1, 1, 1, 1, 1, 1, 1, 1, 1, 1, 1, 1, 1,\n",
       "       1, 1, 1, 1, 1, 1, 1, 1, 1, 1, 1, 1, 1, 1, 1, 1, 1, 1, 1, 1, 1, 1,\n",
       "       1, 1, 1, 1, 1, 1, 1, 1, 1, 1, 1, 1, 1, 1, 1, 1, 1, 1, 1, 1, 1, 1,\n",
       "       1, 1, 1, 1, 1, 1, 1, 1, 1, 1, 1, 1, 1, 1, 1, 1, 1, 1, 1, 1, 1, 1,\n",
       "       1, 1, 1, 1, 1, 1, 1, 1, 1, 1, 1, 1, 1, 1, 1, 1, 1, 1, 1, 1, 1, 1,\n",
       "       1, 1, 1, 1, 1, 1, 1, 1, 1, 1, 1, 1, 1, 1, 1, 1, 1, 1, 1, 1, 1, 1])"
      ]
     },
     "execution_count": 122,
     "metadata": {},
     "output_type": "execute_result"
    }
   ],
   "source": [
    "from sklearn.neighbors import KNeighborsClassifier\n",
    "\n",
    "yield_train,yield_test,gdp_train,gdp_test = train_test_split(all_yield,gdp_classifier,test_size = 0.3)\n",
    "model = KNeighborsClassifier(n_neighbors=2)\n",
    "model.fit(yield_train,gdp_train)\n",
    "prediction = model.predict(yield_test)\n",
    "prediction"
   ]
  },
  {
   "cell_type": "code",
   "execution_count": 123,
   "metadata": {},
   "outputs": [
    {
     "name": "stdout",
     "output_type": "stream",
     "text": [
      "found0\n",
      "found2\n"
     ]
    }
   ],
   "source": [
    "for i in prediction:\n",
    "    if i == 0:\n",
    "        print(\"found0\")\n",
    "    if i == 2:\n",
    "        print(\"found2\")"
   ]
  },
  {
   "cell_type": "code",
   "execution_count": 124,
   "metadata": {},
   "outputs": [
    {
     "name": "stdout",
     "output_type": "stream",
     "text": [
      "0.9545454545454546\n"
     ]
    }
   ],
   "source": [
    "from sklearn.metrics import accuracy_score\n",
    "accuracy = accuracy_score(gdp_test,prediction)\n",
    "print(accuracy)"
   ]
  },
  {
   "cell_type": "code",
   "execution_count": 126,
   "metadata": {},
   "outputs": [
    {
     "name": "stdout",
     "output_type": "stream",
     "text": [
      "found0\n",
      "found0\n",
      "found0\n",
      "found0\n",
      "found0\n",
      "found2\n",
      "found2\n",
      "found2\n",
      "found2\n",
      "0.9544419134396356\n"
     ]
    }
   ],
   "source": [
    "prediction = model.predict(all_yield)\n",
    "for i in prediction:\n",
    "    if i == 0:\n",
    "        print(\"found0\")\n",
    "    if i == 2:\n",
    "        print(\"found2\")\n",
    "accuracy = accuracy_score(gdp_classifier,prediction)\n",
    "print(accuracy)"
   ]
  },
  {
   "cell_type": "code",
   "execution_count": null,
   "metadata": {},
   "outputs": [],
   "source": []
  }
 ],
 "metadata": {
  "kernelspec": {
   "display_name": "Python 3",
   "language": "python",
   "name": "python3"
  },
  "language_info": {
   "codemirror_mode": {
    "name": "ipython",
    "version": 3
   },
   "file_extension": ".py",
   "mimetype": "text/x-python",
   "name": "python",
   "nbconvert_exporter": "python",
   "pygments_lexer": "ipython3",
   "version": "3.7.6"
  }
 },
 "nbformat": 4,
 "nbformat_minor": 4
}
